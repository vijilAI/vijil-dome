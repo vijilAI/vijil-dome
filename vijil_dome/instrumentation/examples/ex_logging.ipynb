{
 "cells": [
  {
   "cell_type": "markdown",
   "metadata": {},
   "source": [
    "# Vijil Logging Examples\n",
    "\n",
    "This notebook demonstrates various ways to use the Vijil logging system, from basic to advanced configurations."
   ]
  },
  {
   "cell_type": "code",
   "execution_count": null,
   "metadata": {},
   "outputs": [],
   "source": [
    "import logging\n",
    "from vijil_dome.instrumentation.logging import setup_vijil_logging"
   ]
  },
  {
   "cell_type": "code",
   "execution_count": 12,
   "metadata": {},
   "outputs": [
    {
     "name": "stderr",
     "output_type": "stream",
     "text": [
      "[2024-08-28 00:48:35,602] [192.168.86.90] [opentelemetry.instrumentation.instrumentor] [WARNING] Attempting to instrument while already instrumented\n"
     ]
    }
   ],
   "source": [
    "setup_vijil_logging()\n",
    "\n",
    "logger = logging.getLogger(\"vijil.some_repo\")\n"
   ]
  },
  {
   "cell_type": "markdown",
   "metadata": {},
   "source": [
    "## Basic Examples\n",
    "\n",
    "These examples demonstrate the basic usage of the Vijil logging system with default configuration."
   ]
  },
  {
   "cell_type": "code",
   "execution_count": 13,
   "metadata": {},
   "outputs": [
    {
     "name": "stderr",
     "output_type": "stream",
     "text": [
      "[2024-08-28 00:48:35,607] [192.168.86.90] [vijil.some_repo] [INFO] This is a basic logging example\n",
      "[2024-08-28 00:48:35,609] [192.168.86.90] [vijil.some_repo] [WARNING] This is a basic warning example\n",
      "[2024-08-28 00:48:35,609] [192.168.86.90] [vijil.some_repo] [ERROR] This is a basic error example\n"
     ]
    }
   ],
   "source": [
    "logger.info(\"This is a basic logging example\")\n",
    "logger.warning(\"This is a basic warning example\")\n",
    "logger.error(\"This is a basic error example\")"
   ]
  },
  {
   "cell_type": "markdown",
   "metadata": {},
   "source": [
    "## Logging with Extra Data\n",
    "\n",
    "This example shows how to include additional structured data in your logs."
   ]
  },
  {
   "cell_type": "code",
   "execution_count": 14,
   "metadata": {},
   "outputs": [
    {
     "name": "stderr",
     "output_type": "stream",
     "text": [
      "[2024-08-28 00:48:35,614] [192.168.86.90] [vijil.some_repo] [INFO] User logged in\n"
     ]
    }
   ],
   "source": [
    "extra_data = {\"user_id\": 12345, \"action\": \"login\"}\n",
    "logger.info(\"User logged in\", extra=extra_data)"
   ]
  },
  {
   "cell_type": "markdown",
   "metadata": {},
   "source": [
    "## Logging Exceptions\n",
    "\n",
    "This example demonstrates how to log exceptions with traceback information."
   ]
  },
  {
   "cell_type": "code",
   "execution_count": 15,
   "metadata": {},
   "outputs": [
    {
     "name": "stderr",
     "output_type": "stream",
     "text": [
      "[2024-08-28 00:48:35,617] [192.168.86.90] [vijil.some_repo] [ERROR] An error occurred division by zero\n",
      "Traceback (most recent call last):\n",
      "  File \"/var/folders/qc/9l1n0msx0zv_mvq0hwsvrc1w0000gn/T/ipykernel_22549/2891271950.py\", line 2, in <module>\n",
      "    1 / 0\n",
      "    ~~^~~\n",
      "ZeroDivisionError: division by zero\n"
     ]
    }
   ],
   "source": [
    "try:\n",
    "    1 / 0\n",
    "except Exception as e:\n",
    "    logger.exception(f\"An error occurred {e}\")"
   ]
  },
  {
   "cell_type": "markdown",
   "metadata": {},
   "source": [
    "## Logging with Pydantic Models\n",
    "\n",
    "This example demonstrates logging with Pydantic models for structured data."
   ]
  },
  {
   "cell_type": "code",
   "execution_count": 16,
   "metadata": {},
   "outputs": [
    {
     "name": "stderr",
     "output_type": "stream",
     "text": [
      "[2024-08-28 00:48:35,623] [192.168.86.90] [vijil.some_repo] [INFO] User action recorded: {\"user_id\":12345,\"action\":\"purchase\",\"details\":{\"item_id\":\"ABC123\",\"amount\":99.99}}\n"
     ]
    }
   ],
   "source": [
    "from pydantic import BaseModel\n",
    "class UserAction(BaseModel):\n",
    "    user_id: int\n",
    "    action: str\n",
    "    details: dict\n",
    "\n",
    "user_action = UserAction(user_id=12345, action=\"purchase\", details={\"item_id\": \"ABC123\", \"amount\": 99.99})\n",
    "logger.info(f\"User action recorded: {user_action.model_dump_json()}\")"
   ]
  },
  {
   "cell_type": "markdown",
   "metadata": {},
   "source": [
    "## Logging in a Function\n",
    "\n",
    "This example shows how to use logging within a function."
   ]
  },
  {
   "cell_type": "code",
   "execution_count": 17,
   "metadata": {},
   "outputs": [
    {
     "name": "stderr",
     "output_type": "stream",
     "text": [
      "[2024-08-28 00:48:35,627] [192.168.86.90] [vijil.core.example_function] [INFO] Function called with arguments: x=5, y=7\n",
      "[2024-08-28 00:48:35,627] [192.168.86.90] [vijil.core.example_function] [INFO] Function returning result: 12\n"
     ]
    }
   ],
   "source": [
    "def example_function(x: int, y: int) -> int:\n",
    "    logger = logging.getLogger(\"vijil.core.example_function\")\n",
    "    logger.info(f\"Function called with arguments: x={x}, y={y}\")\n",
    "    result = x + y\n",
    "    logger.info(f\"Function returning result: {result}\")\n",
    "    return result\n",
    "\n",
    "result = example_function(5, 7)"
   ]
  },
  {
   "cell_type": "markdown",
   "metadata": {},
   "source": [
    "## Changing Log Levels\n",
    "\n",
    "This example demonstrates changing log levels dynamically."
   ]
  },
  {
   "cell_type": "code",
   "execution_count": 18,
   "metadata": {},
   "outputs": [],
   "source": [
    "\n",
    "logger.debug(\"This debug message should NOT be visible\")\n"
   ]
  },
  {
   "cell_type": "code",
   "execution_count": null,
   "metadata": {},
   "outputs": [],
   "source": [
    "from vijil_dome.instrumentation.logging import set_log_level\n",
    "set_log_level(logging.DEBUG)"
   ]
  },
  {
   "cell_type": "code",
   "execution_count": 20,
   "metadata": {},
   "outputs": [
    {
     "name": "stderr",
     "output_type": "stream",
     "text": [
      "[2024-08-28 00:48:35,637] [192.168.86.90] [vijil.some_repo] [DEBUG] This debug message should now be visible\n"
     ]
    }
   ],
   "source": [
    "\n",
    "logger.debug(\"This debug message should now be visible\")"
   ]
  }
 ],
 "metadata": {
  "kernelspec": {
   "display_name": "Python 3",
   "language": "python",
   "name": "python3"
  },
  "language_info": {
   "codemirror_mode": {
    "name": "ipython",
    "version": 3
   },
   "file_extension": ".py",
   "mimetype": "text/x-python",
   "name": "python",
   "nbconvert_exporter": "python",
   "pygments_lexer": "ipython3",
   "version": "3.12.3"
  }
 },
 "nbformat": 4,
 "nbformat_minor": 4
}
