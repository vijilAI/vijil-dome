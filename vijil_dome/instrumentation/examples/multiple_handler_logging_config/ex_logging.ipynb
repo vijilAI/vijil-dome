{
 "cells": [
  {
   "cell_type": "markdown",
   "metadata": {},
   "source": [
    "# Vijil Logging Examples\n",
    "\n",
    "This notebook demonstrates various ways to use the Vijil logging system, from basic to advanced configurations."
   ]
  },
  {
   "cell_type": "code",
   "execution_count": 1,
   "metadata": {},
   "outputs": [],
   "source": [
    "from vijil_core.instrumentation.logging import setup_vijil_logging, get_logger\n",
    "import logging\n",
    "from typing import Dict, Any\n",
    "import toml"
   ]
  },
  {
   "cell_type": "code",
   "execution_count": 2,
   "metadata": {},
   "outputs": [],
   "source": [
    "CONFIG_PATH = \"./config.toml\"\n",
    "\n",
    "def load_default_config() -> Dict[str, Any]:\n",
    "    with open(CONFIG_PATH, \"r\") as f:\n",
    "        return toml.load(f)\n",
    "\n",
    "config = load_default_config()\n",
    "setup_vijil_logging(config)\n",
    "logger = get_logger(\"vijil.some_repo\")\n"
   ]
  },
  {
   "cell_type": "markdown",
   "metadata": {},
   "source": [
    "## Basic Examples\n",
    "\n",
    "These examples demonstrate the basic usage of the Vijil logging system with default configuration."
   ]
  },
  {
   "cell_type": "code",
   "execution_count": 3,
   "metadata": {},
   "outputs": [
    {
     "name": "stderr",
     "output_type": "stream",
     "text": [
      "[2024-08-28 00:32:50,174] [vijil.some_repo] [INFO] This is a basic logging example\n"
     ]
    },
    {
     "name": "stdout",
     "output_type": "stream",
     "text": [
      "{\n",
      "    \"body\": \"This is a basic logging example\",\n",
      "    \"severity_number\": \"<SeverityNumber.INFO: 9>\",\n",
      "    \"severity_text\": \"INFO\",\n",
      "    \"attributes\": {\n",
      "        \"otelSpanID\": \"0\",\n",
      "        \"otelTraceID\": \"0\",\n",
      "        \"otelTraceSampled\": false,\n",
      "        \"otelServiceName\": \"\",\n",
      "        \"ip_address\": \"192.168.86.90\",\n",
      "        \"code.filepath\": \"/var/folders/qc/9l1n0msx0zv_mvq0hwsvrc1w0000gn/T/ipykernel_21408/845925158.py\",\n",
      "        \"code.function\": \"<module>\",\n",
      "        \"code.lineno\": 1\n",
      "    },\n",
      "    \"dropped_attributes\": 0,\n",
      "    \"timestamp\": \"2024-08-28T07:32:50.174081Z\",\n",
      "    \"observed_timestamp\": \"2024-08-28T07:32:50.188522Z\",\n",
      "    \"trace_id\": \"0x00000000000000000000000000000000\",\n",
      "    \"span_id\": \"0x0000000000000000\",\n",
      "    \"trace_flags\": 0,\n",
      "    \"resource\": {\n",
      "        \"attributes\": {\n",
      "            \"telemetry.sdk.language\": \"python\",\n",
      "            \"telemetry.sdk.name\": \"opentelemetry\",\n",
      "            \"telemetry.sdk.version\": \"1.26.0\",\n",
      "            \"service.name\": \"unknown-service\",\n",
      "            \"service.version\": \"unknown\",\n",
      "            \"deployment.environment\": \"unknown\"\n",
      "        },\n",
      "        \"schema_url\": \"\"\n",
      "    }\n",
      "}\n"
     ]
    },
    {
     "name": "stderr",
     "output_type": "stream",
     "text": [
      "[2024-08-28 00:32:50,189] [vijil.some_repo] [WARNING] This is a basic warning example\n"
     ]
    },
    {
     "name": "stdout",
     "output_type": "stream",
     "text": [
      "{\n",
      "    \"body\": \"This is a basic warning example\",\n",
      "    \"severity_number\": \"<SeverityNumber.WARN: 13>\",\n",
      "    \"severity_text\": \"WARN\",\n",
      "    \"attributes\": {\n",
      "        \"otelSpanID\": \"0\",\n",
      "        \"otelTraceID\": \"0\",\n",
      "        \"otelTraceSampled\": false,\n",
      "        \"otelServiceName\": \"\",\n",
      "        \"ip_address\": \"192.168.86.90\",\n",
      "        \"code.filepath\": \"/var/folders/qc/9l1n0msx0zv_mvq0hwsvrc1w0000gn/T/ipykernel_21408/845925158.py\",\n",
      "        \"code.function\": \"<module>\",\n",
      "        \"code.lineno\": 2\n",
      "    },\n",
      "    \"dropped_attributes\": 0,\n",
      "    \"timestamp\": \"2024-08-28T07:32:50.189056Z\",\n",
      "    \"observed_timestamp\": \"2024-08-28T07:32:50.189780Z\",\n",
      "    \"trace_id\": \"0x00000000000000000000000000000000\",\n",
      "    \"span_id\": \"0x0000000000000000\",\n",
      "    \"trace_flags\": 0,\n",
      "    \"resource\": {\n",
      "        \"attributes\": {\n",
      "            \"telemetry.sdk.language\": \"python\",\n",
      "            \"telemetry.sdk.name\": \"opentelemetry\",\n",
      "            \"telemetry.sdk.version\": \"1.26.0\",\n",
      "            \"service.name\": \"unknown-service\",\n",
      "            \"service.version\": \"unknown\",\n",
      "            \"deployment.environment\": \"unknown\"\n",
      "        },\n",
      "        \"schema_url\": \"\"\n",
      "    }\n",
      "}\n"
     ]
    },
    {
     "name": "stderr",
     "output_type": "stream",
     "text": [
      "[2024-08-28 00:32:50,190] [vijil.some_repo] [ERROR] This is a basic error example\n"
     ]
    },
    {
     "name": "stdout",
     "output_type": "stream",
     "text": [
      "{\n",
      "    \"body\": \"This is a basic error example\",\n",
      "    \"severity_number\": \"<SeverityNumber.ERROR: 17>\",\n",
      "    \"severity_text\": \"ERROR\",\n",
      "    \"attributes\": {\n",
      "        \"otelSpanID\": \"0\",\n",
      "        \"otelTraceID\": \"0\",\n",
      "        \"otelTraceSampled\": false,\n",
      "        \"otelServiceName\": \"\",\n",
      "        \"ip_address\": \"192.168.86.90\",\n",
      "        \"code.filepath\": \"/var/folders/qc/9l1n0msx0zv_mvq0hwsvrc1w0000gn/T/ipykernel_21408/845925158.py\",\n",
      "        \"code.function\": \"<module>\",\n",
      "        \"code.lineno\": 3\n",
      "    },\n",
      "    \"dropped_attributes\": 0,\n",
      "    \"timestamp\": \"2024-08-28T07:32:50.190093Z\",\n",
      "    \"observed_timestamp\": \"2024-08-28T07:32:50.190744Z\",\n",
      "    \"trace_id\": \"0x00000000000000000000000000000000\",\n",
      "    \"span_id\": \"0x0000000000000000\",\n",
      "    \"trace_flags\": 0,\n",
      "    \"resource\": {\n",
      "        \"attributes\": {\n",
      "            \"telemetry.sdk.language\": \"python\",\n",
      "            \"telemetry.sdk.name\": \"opentelemetry\",\n",
      "            \"telemetry.sdk.version\": \"1.26.0\",\n",
      "            \"service.name\": \"unknown-service\",\n",
      "            \"service.version\": \"unknown\",\n",
      "            \"deployment.environment\": \"unknown\"\n",
      "        },\n",
      "        \"schema_url\": \"\"\n",
      "    }\n",
      "}\n"
     ]
    }
   ],
   "source": [
    "logger.info(\"This is a basic logging example\")\n",
    "logger.warning(\"This is a basic warning example\")\n",
    "logger.error(\"This is a basic error example\")"
   ]
  },
  {
   "cell_type": "markdown",
   "metadata": {},
   "source": [
    "## Logging with Extra Data\n",
    "\n",
    "This example shows how to include additional structured data in your logs."
   ]
  },
  {
   "cell_type": "code",
   "execution_count": 4,
   "metadata": {},
   "outputs": [
    {
     "name": "stderr",
     "output_type": "stream",
     "text": [
      "[2024-08-28 00:32:50,194] [vijil.some_repo] [INFO] User logged in\n"
     ]
    },
    {
     "name": "stdout",
     "output_type": "stream",
     "text": [
      "{\n",
      "    \"body\": \"User logged in\",\n",
      "    \"severity_number\": \"<SeverityNumber.INFO: 9>\",\n",
      "    \"severity_text\": \"INFO\",\n",
      "    \"attributes\": {\n",
      "        \"otelSpanID\": \"0\",\n",
      "        \"otelTraceID\": \"0\",\n",
      "        \"otelTraceSampled\": false,\n",
      "        \"otelServiceName\": \"\",\n",
      "        \"user_id\": 12345,\n",
      "        \"action\": \"login\",\n",
      "        \"ip_address\": \"192.168.86.90\",\n",
      "        \"code.filepath\": \"/var/folders/qc/9l1n0msx0zv_mvq0hwsvrc1w0000gn/T/ipykernel_21408/694826229.py\",\n",
      "        \"code.function\": \"<module>\",\n",
      "        \"code.lineno\": 2\n",
      "    },\n",
      "    \"dropped_attributes\": 0,\n",
      "    \"timestamp\": \"2024-08-28T07:32:50.194233Z\",\n",
      "    \"observed_timestamp\": \"2024-08-28T07:32:50.195168Z\",\n",
      "    \"trace_id\": \"0x00000000000000000000000000000000\",\n",
      "    \"span_id\": \"0x0000000000000000\",\n",
      "    \"trace_flags\": 0,\n",
      "    \"resource\": {\n",
      "        \"attributes\": {\n",
      "            \"telemetry.sdk.language\": \"python\",\n",
      "            \"telemetry.sdk.name\": \"opentelemetry\",\n",
      "            \"telemetry.sdk.version\": \"1.26.0\",\n",
      "            \"service.name\": \"unknown-service\",\n",
      "            \"service.version\": \"unknown\",\n",
      "            \"deployment.environment\": \"unknown\"\n",
      "        },\n",
      "        \"schema_url\": \"\"\n",
      "    }\n",
      "}\n"
     ]
    }
   ],
   "source": [
    "extra_data = {\"user_id\": 12345, \"action\": \"login\"}\n",
    "logger.info(\"User logged in\", extra=extra_data)"
   ]
  },
  {
   "cell_type": "markdown",
   "metadata": {},
   "source": [
    "## Logging Exceptions\n",
    "\n",
    "This example demonstrates how to log exceptions with traceback information."
   ]
  },
  {
   "cell_type": "code",
   "execution_count": 5,
   "metadata": {},
   "outputs": [
    {
     "name": "stderr",
     "output_type": "stream",
     "text": [
      "[2024-08-28 00:32:50,198] [vijil.some_repo] [ERROR] An error occurred division by zero\n",
      "Traceback (most recent call last):\n",
      "  File \"/var/folders/qc/9l1n0msx0zv_mvq0hwsvrc1w0000gn/T/ipykernel_21408/2891271950.py\", line 2, in <module>\n",
      "    1 / 0\n",
      "    ~~^~~\n",
      "ZeroDivisionError: division by zero\n"
     ]
    },
    {
     "name": "stdout",
     "output_type": "stream",
     "text": [
      "{\n",
      "    \"body\": \"An error occurred division by zero\",\n",
      "    \"severity_number\": \"<SeverityNumber.ERROR: 17>\",\n",
      "    \"severity_text\": \"ERROR\",\n",
      "    \"attributes\": {\n",
      "        \"otelSpanID\": \"0\",\n",
      "        \"otelTraceID\": \"0\",\n",
      "        \"otelTraceSampled\": false,\n",
      "        \"otelServiceName\": \"\",\n",
      "        \"ip_address\": \"192.168.86.90\",\n",
      "        \"code.filepath\": \"/var/folders/qc/9l1n0msx0zv_mvq0hwsvrc1w0000gn/T/ipykernel_21408/2891271950.py\",\n",
      "        \"code.function\": \"<module>\",\n",
      "        \"code.lineno\": 4,\n",
      "        \"exception.type\": \"ZeroDivisionError\",\n",
      "        \"exception.message\": \"division by zero\",\n",
      "        \"exception.stacktrace\": \"Traceback (most recent call last):\\n  File \\\"/var/folders/qc/9l1n0msx0zv_mvq0hwsvrc1w0000gn/T/ipykernel_21408/2891271950.py\\\", line 2, in <module>\\n    1 / 0\\n    ~~^~~\\nZeroDivisionError: division by zero\\n\"\n",
      "    },\n",
      "    \"dropped_attributes\": 0,\n",
      "    \"timestamp\": \"2024-08-28T07:32:50.198738Z\",\n",
      "    \"observed_timestamp\": \"2024-08-28T07:32:50.199652Z\",\n",
      "    \"trace_id\": \"0x00000000000000000000000000000000\",\n",
      "    \"span_id\": \"0x0000000000000000\",\n",
      "    \"trace_flags\": 0,\n",
      "    \"resource\": {\n",
      "        \"attributes\": {\n",
      "            \"telemetry.sdk.language\": \"python\",\n",
      "            \"telemetry.sdk.name\": \"opentelemetry\",\n",
      "            \"telemetry.sdk.version\": \"1.26.0\",\n",
      "            \"service.name\": \"unknown-service\",\n",
      "            \"service.version\": \"unknown\",\n",
      "            \"deployment.environment\": \"unknown\"\n",
      "        },\n",
      "        \"schema_url\": \"\"\n",
      "    }\n",
      "}\n"
     ]
    }
   ],
   "source": [
    "try:\n",
    "    1 / 0\n",
    "except Exception as e:\n",
    "    logger.exception(f\"An error occurred {e}\")"
   ]
  },
  {
   "cell_type": "markdown",
   "metadata": {},
   "source": [
    "## Logging with Pydantic Models\n",
    "\n",
    "This example demonstrates logging with Pydantic models for structured data."
   ]
  },
  {
   "cell_type": "code",
   "execution_count": 6,
   "metadata": {},
   "outputs": [
    {
     "name": "stderr",
     "output_type": "stream",
     "text": [
      "[2024-08-28 00:32:50,252] [vijil.some_repo] [INFO] User action recorded: {\"user_id\":12345,\"action\":\"purchase\",\"details\":{\"item_id\":\"ABC123\",\"amount\":99.99}}\n"
     ]
    },
    {
     "name": "stdout",
     "output_type": "stream",
     "text": [
      "{\n",
      "    \"body\": \"User action recorded: {\\\"user_id\\\":12345,\\\"action\\\":\\\"purchase\\\",\\\"details\\\":{\\\"item_id\\\":\\\"ABC123\\\",\\\"amount\\\":99.99}}\",\n",
      "    \"severity_number\": \"<SeverityNumber.INFO: 9>\",\n",
      "    \"severity_text\": \"INFO\",\n",
      "    \"attributes\": {\n",
      "        \"otelSpanID\": \"0\",\n",
      "        \"otelTraceID\": \"0\",\n",
      "        \"otelTraceSampled\": false,\n",
      "        \"otelServiceName\": \"\",\n",
      "        \"ip_address\": \"192.168.86.90\",\n",
      "        \"code.filepath\": \"/var/folders/qc/9l1n0msx0zv_mvq0hwsvrc1w0000gn/T/ipykernel_21408/3336778517.py\",\n",
      "        \"code.function\": \"<module>\",\n",
      "        \"code.lineno\": 8\n",
      "    },\n",
      "    \"dropped_attributes\": 0,\n",
      "    \"timestamp\": \"2024-08-28T07:32:50.252060Z\",\n",
      "    \"observed_timestamp\": \"2024-08-28T07:32:50.253120Z\",\n",
      "    \"trace_id\": \"0x00000000000000000000000000000000\",\n",
      "    \"span_id\": \"0x0000000000000000\",\n",
      "    \"trace_flags\": 0,\n",
      "    \"resource\": {\n",
      "        \"attributes\": {\n",
      "            \"telemetry.sdk.language\": \"python\",\n",
      "            \"telemetry.sdk.name\": \"opentelemetry\",\n",
      "            \"telemetry.sdk.version\": \"1.26.0\",\n",
      "            \"service.name\": \"unknown-service\",\n",
      "            \"service.version\": \"unknown\",\n",
      "            \"deployment.environment\": \"unknown\"\n",
      "        },\n",
      "        \"schema_url\": \"\"\n",
      "    }\n",
      "}\n"
     ]
    }
   ],
   "source": [
    "from pydantic import BaseModel\n",
    "class UserAction(BaseModel):\n",
    "    user_id: int\n",
    "    action: str\n",
    "    details: dict\n",
    "\n",
    "user_action = UserAction(user_id=12345, action=\"purchase\", details={\"item_id\": \"ABC123\", \"amount\": 99.99})\n",
    "logger.info(f\"User action recorded: {user_action.model_dump_json()}\")"
   ]
  },
  {
   "cell_type": "markdown",
   "metadata": {},
   "source": [
    "## Logging in a Function\n",
    "\n",
    "This example shows how to use logging within a function."
   ]
  },
  {
   "cell_type": "code",
   "execution_count": 7,
   "metadata": {},
   "outputs": [
    {
     "name": "stderr",
     "output_type": "stream",
     "text": [
      "[2024-08-28 00:32:50,256] [vijil.core.example_function] [INFO] Function called with arguments: x=5, y=7\n"
     ]
    },
    {
     "name": "stdout",
     "output_type": "stream",
     "text": [
      "{\n",
      "    \"body\": \"Function called with arguments: x=5, y=7\",\n",
      "    \"severity_number\": \"<SeverityNumber.INFO: 9>\",\n",
      "    \"severity_text\": \"INFO\",\n",
      "    \"attributes\": {\n",
      "        \"otelSpanID\": \"0\",\n",
      "        \"otelTraceID\": \"0\",\n",
      "        \"otelTraceSampled\": false,\n",
      "        \"otelServiceName\": \"\",\n",
      "        \"ip_address\": \"192.168.86.90\",\n",
      "        \"code.filepath\": \"/var/folders/qc/9l1n0msx0zv_mvq0hwsvrc1w0000gn/T/ipykernel_21408/1172030880.py\",\n",
      "        \"code.function\": \"example_function\",\n",
      "        \"code.lineno\": 3\n",
      "    },\n",
      "    \"dropped_attributes\": 0,\n",
      "    \"timestamp\": \"2024-08-28T07:32:50.256531Z\",\n",
      "    \"observed_timestamp\": \"2024-08-28T07:32:50.257215Z\",\n",
      "    \"trace_id\": \"0x00000000000000000000000000000000\",\n",
      "    \"span_id\": \"0x0000000000000000\",\n",
      "    \"trace_flags\": 0,\n",
      "    \"resource\": {\n",
      "        \"attributes\": {\n",
      "            \"telemetry.sdk.language\": \"python\",\n",
      "            \"telemetry.sdk.name\": \"opentelemetry\",\n",
      "            \"telemetry.sdk.version\": \"1.26.0\",\n",
      "            \"service.name\": \"unknown-service\",\n",
      "            \"service.version\": \"unknown\",\n",
      "            \"deployment.environment\": \"unknown\"\n",
      "        },\n",
      "        \"schema_url\": \"\"\n",
      "    }\n",
      "}\n"
     ]
    },
    {
     "name": "stderr",
     "output_type": "stream",
     "text": [
      "[2024-08-28 00:32:50,257] [vijil.core.example_function] [INFO] Function returning result: 12\n"
     ]
    },
    {
     "name": "stdout",
     "output_type": "stream",
     "text": [
      "{\n",
      "    \"body\": \"Function returning result: 12\",\n",
      "    \"severity_number\": \"<SeverityNumber.INFO: 9>\",\n",
      "    \"severity_text\": \"INFO\",\n",
      "    \"attributes\": {\n",
      "        \"otelSpanID\": \"0\",\n",
      "        \"otelTraceID\": \"0\",\n",
      "        \"otelTraceSampled\": false,\n",
      "        \"otelServiceName\": \"\",\n",
      "        \"ip_address\": \"192.168.86.90\",\n",
      "        \"code.filepath\": \"/var/folders/qc/9l1n0msx0zv_mvq0hwsvrc1w0000gn/T/ipykernel_21408/1172030880.py\",\n",
      "        \"code.function\": \"example_function\",\n",
      "        \"code.lineno\": 5\n",
      "    },\n",
      "    \"dropped_attributes\": 0,\n",
      "    \"timestamp\": \"2024-08-28T07:32:50.257474Z\",\n",
      "    \"observed_timestamp\": \"2024-08-28T07:32:50.258037Z\",\n",
      "    \"trace_id\": \"0x00000000000000000000000000000000\",\n",
      "    \"span_id\": \"0x0000000000000000\",\n",
      "    \"trace_flags\": 0,\n",
      "    \"resource\": {\n",
      "        \"attributes\": {\n",
      "            \"telemetry.sdk.language\": \"python\",\n",
      "            \"telemetry.sdk.name\": \"opentelemetry\",\n",
      "            \"telemetry.sdk.version\": \"1.26.0\",\n",
      "            \"service.name\": \"unknown-service\",\n",
      "            \"service.version\": \"unknown\",\n",
      "            \"deployment.environment\": \"unknown\"\n",
      "        },\n",
      "        \"schema_url\": \"\"\n",
      "    }\n",
      "}\n"
     ]
    }
   ],
   "source": [
    "def example_function(x: int, y: int) -> int:\n",
    "    logger = get_logger(\"vijil.core.example_function\")\n",
    "    logger.info(f\"Function called with arguments: x={x}, y={y}\")\n",
    "    result = x + y\n",
    "    logger.info(f\"Function returning result: {result}\")\n",
    "    return result\n",
    "\n",
    "result = example_function(5, 7)"
   ]
  },
  {
   "cell_type": "markdown",
   "metadata": {},
   "source": [
    "## Changing Log Levels\n",
    "\n",
    "This example demonstrates changing log levels dynamically."
   ]
  },
  {
   "cell_type": "code",
   "execution_count": 8,
   "metadata": {},
   "outputs": [],
   "source": [
    "\n",
    "logger.debug(\"This debug message should NOT be visible\")\n"
   ]
  },
  {
   "cell_type": "code",
   "execution_count": 9,
   "metadata": {},
   "outputs": [],
   "source": [
    "from vijil_core.instrumentation.logging import set_log_level\n",
    "set_log_level(logging.DEBUG)"
   ]
  },
  {
   "cell_type": "code",
   "execution_count": 10,
   "metadata": {},
   "outputs": [
    {
     "name": "stderr",
     "output_type": "stream",
     "text": [
      "[2024-08-28 00:32:50,269] [vijil.some_repo] [DEBUG] This debug message should now be visible\n"
     ]
    },
    {
     "name": "stdout",
     "output_type": "stream",
     "text": [
      "{\n",
      "    \"body\": \"This debug message should now be visible\",\n",
      "    \"severity_number\": \"<SeverityNumber.DEBUG: 5>\",\n",
      "    \"severity_text\": \"DEBUG\",\n",
      "    \"attributes\": {\n",
      "        \"otelSpanID\": \"0\",\n",
      "        \"otelTraceID\": \"0\",\n",
      "        \"otelTraceSampled\": false,\n",
      "        \"otelServiceName\": \"\",\n",
      "        \"ip_address\": \"192.168.86.90\",\n",
      "        \"code.filepath\": \"/var/folders/qc/9l1n0msx0zv_mvq0hwsvrc1w0000gn/T/ipykernel_21408/2026943085.py\",\n",
      "        \"code.function\": \"<module>\",\n",
      "        \"code.lineno\": 1\n",
      "    },\n",
      "    \"dropped_attributes\": 0,\n",
      "    \"timestamp\": \"2024-08-28T07:32:50.269847Z\",\n",
      "    \"observed_timestamp\": \"2024-08-28T07:32:50.272432Z\",\n",
      "    \"trace_id\": \"0x00000000000000000000000000000000\",\n",
      "    \"span_id\": \"0x0000000000000000\",\n",
      "    \"trace_flags\": 0,\n",
      "    \"resource\": {\n",
      "        \"attributes\": {\n",
      "            \"telemetry.sdk.language\": \"python\",\n",
      "            \"telemetry.sdk.name\": \"opentelemetry\",\n",
      "            \"telemetry.sdk.version\": \"1.26.0\",\n",
      "            \"service.name\": \"unknown-service\",\n",
      "            \"service.version\": \"unknown\",\n",
      "            \"deployment.environment\": \"unknown\"\n",
      "        },\n",
      "        \"schema_url\": \"\"\n",
      "    }\n",
      "}\n"
     ]
    }
   ],
   "source": [
    "\n",
    "logger.debug(\"This debug message should now be visible\")"
   ]
  }
 ],
 "metadata": {
  "kernelspec": {
   "display_name": "Python 3",
   "language": "python",
   "name": "python3"
  },
  "language_info": {
   "codemirror_mode": {
    "name": "ipython",
    "version": 3
   },
   "file_extension": ".py",
   "mimetype": "text/x-python",
   "name": "python",
   "nbconvert_exporter": "python",
   "pygments_lexer": "ipython3",
   "version": "3.12.3"
  }
 },
 "nbformat": 4,
 "nbformat_minor": 4
}
